{
 "cells": [
  {
   "cell_type": "code",
   "execution_count": 1,
   "metadata": {
    "tags": []
   },
   "outputs": [
    {
     "output_type": "stream",
     "name": "stdout",
     "text": "******************* Hello..... *******************\nusage: ipykernel_launcher.py [-h] [--lr LR] [--cuda CUDA]\n                             [--num_epochs NUM_EPOCHS]\n                             [--print_iter PRINT_ITER]\n                             [--model_name MODEL_NAME]\n                             [--prediction_file PREDICTION_FILE]\n                             [--batch BATCH] [--mode MODE]\nipykernel_launcher.py: error: unrecognized arguments: -f C:\\Users\\sunabove\\AppData\\Roaming\\jupyter\\runtime\\kernel-746f6c2f-b72f-4521-961c-4d1100d3d24b.json\n"
    },
    {
     "output_type": "error",
     "ename": "SystemExit",
     "evalue": "2",
     "traceback": [
      "An exception has occurred, use %tb to see the full traceback.\n",
      "\u001b[1;31mSystemExit\u001b[0m\u001b[1;31m:\u001b[0m 2\n"
     ]
    }
   ],
   "source": [
    "print( \" Hello..... \".center( 50, \"*\") )\n",
    "\n",
    "import logging \n",
    "import os\n",
    "import argparse\n",
    "import math\n",
    "import datetime\n",
    "import numpy as np\n",
    "import pandas as pd\n",
    "import time\n",
    "import csv\n",
    "from PIL import Image\n",
    "import matplotlib.pyplot as plt\n",
    "import sqlite3\n",
    "\n",
    "import tensorflow as tf\n",
    "import tensorflow.keras as keras\n",
    "\n",
    "from tensorflow.keras import callbacks \n",
    "from tensorflow.keras.models import Sequential\n",
    "from tensorflow.keras.layers import Dense\n",
    "from tensorflow.keras.layers import Dropout\n",
    "from tensorflow.keras.layers import Flatten\n",
    "from tensorflow.keras.layers import Lambda  \n",
    "from tensorflow.keras.layers import LSTM\n",
    "from tensorflow.keras.layers import Activation\n",
    "from tensorflow.python.keras import backend as K\n",
    "\n",
    "import torch\n",
    "import torch.nn as nn\n",
    "\n",
    "from torch.optim.lr_scheduler import StepLR\n",
    "from torch.utils import data\n",
    "from torchvision import datasets, transforms\n",
    "\n",
    "from dataloader import data_loader \n",
    "\n",
    "# TODO: 1002 로그 패키지 임포트\n",
    "logging.basicConfig(format='%(asctime)s %(levelname)-5s [%(filename)s:%(lineno)04d] %(message)s', datefmt='%Y-%m-%d:%H:%M:%S', level=logging.INFO)\n",
    "log = logging.getLogger(__name__)\n",
    "LINE = \"*\"*100\n",
    "\n",
    "# argument parser\n",
    "args = argparse.ArgumentParser()\n",
    "args.add_argument(\"--lr\", type=int, default=0.001)\n",
    "args.add_argument(\"--cuda\", type=bool, default=True)\n",
    "args.add_argument(\"--num_epochs\", type=int, default=300 )  #TODO 2011 훈련수 num ephocs set\n",
    "args.add_argument(\"--print_iter\", type=int, default=10)\n",
    "args.add_argument(\"--model_name\", type=str, default=\"model.pth\")\n",
    "args.add_argument(\"--prediction_file\", type=str, default=\"prediction.txt\")\n",
    "args.add_argument(\"--batch\", type=int, default=24)\n",
    "args.add_argument(\"--mode\", type=str, default=\"train\")\n",
    "\n",
    "config = args.parse_args()\n",
    "#-- argument parse\n",
    "\n",
    "\n",
    "mode = config.mode \n",
    "\n",
    "print( \" Good bye. \".center(50, \"*\") )"
   ]
  },
  {
   "cell_type": "code",
   "execution_count": null,
   "metadata": {},
   "outputs": [],
   "source": []
  }
 ],
 "metadata": {
  "language_info": {
   "codemirror_mode": {
    "name": "ipython",
    "version": 3
   },
   "file_extension": ".py",
   "mimetype": "text/x-python",
   "name": "python",
   "nbconvert_exporter": "python",
   "pygments_lexer": "ipython3",
   "version": "3.6.8-final"
  },
  "orig_nbformat": 2,
  "kernelspec": {
   "name": "python36864bit49dd4257f41c41b49bea59eae1aba9be",
   "display_name": "Python 3.6.8 64-bit"
  }
 },
 "nbformat": 4,
 "nbformat_minor": 2
}