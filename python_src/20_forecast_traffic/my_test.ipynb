{
 "cells": [
  {
   "cell_type": "code",
   "execution_count": 3,
   "metadata": {
    "tags": []
   },
   "outputs": [
    {
     "output_type": "stream",
     "name": "stdout",
     "text": "[[ 12.64   7.68  -9.6 ]\n [  7.68  17.36 -13.8 ]\n [ -9.6  -13.8   14.8 ]]\n"
    }
   ],
   "source": [
    "import numpy as np\n",
    "\n",
    "A = [45,37,42,35,39]\n",
    "B = [38,31,26,28,33]\n",
    "C = [10,15,17,21,12]\n",
    "\n",
    "data = np.array([A,B,C])\n",
    "\n",
    "data = [ A, B, C ]\n",
    "\n",
    "covMatrix = np.cov(data,bias=True)\n",
    "print (covMatrix)"
   ]
  },
  {
   "cell_type": "code",
   "execution_count": 6,
   "metadata": {
    "tags": []
   },
   "outputs": [
    {
     "output_type": "stream",
     "name": "stdout",
     "text": "[[ 12.64   7.68  -9.6 ]\n [  7.68  17.36 -13.8 ]\n [ -9.6  -13.8   14.8 ]]\n"
    }
   ],
   "source": [
    "import numpy as np\n",
    "\n",
    "A = [45,37,42,35,39]\n",
    "B = [38,31,26,28,33]\n",
    "C = [10,15,17,21,12]\n",
    "\n",
    "data = np.array([A,B,C]) \n",
    "\n",
    "covMatrix = np.cov(data,bias=True)\n",
    "print( covMatrix )"
   ]
  },
  {
   "cell_type": "code",
   "execution_count": null,
   "metadata": {},
   "outputs": [],
   "source": []
  }
 ],
 "metadata": {
  "language_info": {
   "codemirror_mode": {
    "name": "ipython",
    "version": 3
   },
   "file_extension": ".py",
   "mimetype": "text/x-python",
   "name": "python",
   "nbconvert_exporter": "python",
   "pygments_lexer": "ipython3",
   "version": "3.6.8-final"
  },
  "orig_nbformat": 2,
  "kernelspec": {
   "name": "python36864bit49dd4257f41c41b49bea59eae1aba9be",
   "display_name": "Python 3.6.8 64-bit"
  }
 },
 "nbformat": 4,
 "nbformat_minor": 2
}